{
  "nbformat": 4,
  "nbformat_minor": 0,
  "metadata": {
    "colab": {
      "provenance": [],
      "authorship_tag": "ABX9TyOgERaEp9Q/HY6U3LzOwG+1",
      "include_colab_link": true
    },
    "kernelspec": {
      "name": "python3",
      "display_name": "Python 3"
    },
    "language_info": {
      "name": "python"
    }
  },
  "cells": [
    {
      "cell_type": "markdown",
      "metadata": {
        "id": "view-in-github",
        "colab_type": "text"
      },
      "source": [
        "<a href=\"https://colab.research.google.com/github/Devamstark/DevXsocial/blob/main/Untitled0.ipynb\" target=\"_parent\"><img src=\"https://colab.research.google.com/assets/colab-badge.svg\" alt=\"Open In Colab\"/></a>"
      ]
    },
    {
      "cell_type": "code",
      "source": [
        "import requests\n",
        "\n",
        "username = input(\"Enter username: \")\n",
        "sites = {\n",
        "    \"Twitter\": f\"https://twitter.com/{username}\",\n",
        "    \"Instagram\": f\"https://instagram.com/{username}\",\n",
        "    \"GitHub\": f\"https://github.com/{username}\"\n",
        "}\n",
        "\n",
        "for site, url in sites.items():\n",
        "    try:\n",
        "        response = requests.get(url, timeout=5)\n",
        "        if response.status_code == 200:\n",
        "            print(f\"{site}: ✅ Found ({url})\")\n",
        "        else:\n",
        "            print(f\"{site}: ❌ Not found\")\n",
        "    except:\n",
        "        print(f\"{site}: ⚠ Error checking\")\n",
        "\n",
        "print(\"\\nNote: Some sites may block automated checks. Visit links manually to confirm.\")"
      ],
      "metadata": {
        "colab": {
          "base_uri": "https://localhost:8080/"
        },
        "id": "aweNUSS9ySEg",
        "outputId": "74bb77fd-2a65-46f3-95fa-f734109ac050"
      },
      "execution_count": 1,
      "outputs": [
        {
          "output_type": "stream",
          "name": "stdout",
          "text": [
            "Enter username: devamstark\n",
            "Twitter: ❌ Not found\n",
            "Instagram: ❌ Not found\n",
            "GitHub: ✅ Found (https://github.com/devamstark)\n",
            "\n",
            "Note: Some sites may block automated checks. Visit links manually to confirm.\n"
          ]
        }
      ]
    }
  ]
}